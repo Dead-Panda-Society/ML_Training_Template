{
  "nbformat": 4,
  "nbformat_minor": 0,
  "metadata": {
    "colab": {
      "name": "decision_tree_regression.ipynb",
      "provenance": [],
      "collapsed_sections": []
    },
    "kernelspec": {
      "name": "python3",
      "display_name": "Python 3"
    }
  },
  "cells": [
    {
      "cell_type": "markdown",
      "metadata": {
        "id": "r3cas2_1T98w"
      },
      "source": [
        "# Decision Tree Regression"
      ]
    },
    {
      "cell_type": "markdown",
      "metadata": {
        "id": "IODliia6U1xO"
      },
      "source": [
        "## Importing the libraries"
      ]
    },
    {
      "cell_type": "code",
      "metadata": {
        "id": "y98nA5UdU6Hf"
      },
      "source": [
        "import numpy as np\n",
        "import matplotlib.pyplot as plt\n",
        "import pandas as pd"
      ],
      "execution_count": 1,
      "outputs": []
    },
    {
      "cell_type": "markdown",
      "metadata": {
        "id": "jpjZ43YlU8eI"
      },
      "source": [
        "## Importing the dataset"
      ]
    },
    {
      "cell_type": "code",
      "metadata": {
        "id": "pLVaXoYVU_Uy"
      },
      "source": [
        "dataset = pd.read_csv('Position_Salaries.csv')\n",
        "X = dataset.iloc[:, 1:-1].values\n",
        "y = dataset.iloc[:, -1].values"
      ],
      "execution_count": 3,
      "outputs": []
    },
    {
      "cell_type": "markdown",
      "metadata": {
        "id": "g16qFkFQVC35"
      },
      "source": [
        "## Training the Decision Tree Regression model on the whole dataset"
      ]
    },
    {
      "cell_type": "code",
      "source": [
        "from sklearn.tree import DecisionTreeRegressor\n",
        "regressor = DecisionTreeRegressor(random_state = 0)\n",
        "regressor.fit(X, y)"
      ],
      "metadata": {
        "colab": {
          "base_uri": "https://localhost:8080/"
        },
        "id": "xeveOowmP3sc",
        "outputId": "6d946681-a52c-4c9e-c34d-37fb783a9afc"
      },
      "execution_count": 4,
      "outputs": [
        {
          "output_type": "execute_result",
          "data": {
            "text/plain": [
              "DecisionTreeRegressor(random_state=0)"
            ]
          },
          "metadata": {},
          "execution_count": 4
        }
      ]
    },
    {
      "cell_type": "markdown",
      "metadata": {
        "id": "MQRGPTH3VcOn"
      },
      "source": [
        "## Predicting a new result"
      ]
    },
    {
      "cell_type": "code",
      "source": [
        "regressor.predict([[6.5]])"
      ],
      "metadata": {
        "colab": {
          "base_uri": "https://localhost:8080/"
        },
        "id": "wrIo3gedSBNX",
        "outputId": "ef060829-46b3-4a7c-d7e7-528bc8628655"
      },
      "execution_count": 5,
      "outputs": [
        {
          "output_type": "execute_result",
          "data": {
            "text/plain": [
              "array([150000.])"
            ]
          },
          "metadata": {},
          "execution_count": 5
        }
      ]
    },
    {
      "cell_type": "markdown",
      "metadata": {
        "id": "ph8ExBj0VkIT"
      },
      "source": [
        "## Visualising the Decision Tree Regression results (higher resolution)"
      ]
    },
    {
      "cell_type": "code",
      "source": [
        "X_grid = np.arange(min(X), max(X), 0.1)\n",
        "X_grid = X_grid.reshape((len(X_grid), 1))\n",
        "plt.scatter(X, y, color = \"red\")\n",
        "# Change to plot to accommodate decision tree regression\n",
        "plt.plot(X_grid, regressor.predict(X_grid), color = \"blue\")\n",
        "plt.title(\"Truth or Bluff (Decision Tree Regression)\")\n",
        "plt.xlabel(\"Position level\")\n",
        "plt.ylabel(\"Salary (in millions $)\")\n",
        "plt.show()"
      ],
      "metadata": {
        "colab": {
          "base_uri": "https://localhost:8080/",
          "height": 295
        },
        "id": "NG0zqZy1S--_",
        "outputId": "f52aeedc-ea11-45c4-8966-810baafb9251"
      },
      "execution_count": 8,
      "outputs": [
        {
          "output_type": "display_data",
          "data": {
            "image/png": "[encoded data removed]",
            "text/plain": [
              "<Figure size 432x288 with 1 Axes>"
            ]
          },
          "metadata": {
            "needs_background": "light"
          }
        }
      ]
    }
  ]
}