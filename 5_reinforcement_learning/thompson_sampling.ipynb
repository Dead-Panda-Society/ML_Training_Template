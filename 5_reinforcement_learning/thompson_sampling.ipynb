{
  "cells": [
    {
      "cell_type": "markdown",
      "metadata": {
        "id": "vPKTIRAtx232"
      },
      "source": [
        "# Thompson Sampling"
      ]
    },
    {
      "cell_type": "markdown",
      "metadata": {
        "id": "PqPv9zpAx-EE"
      },
      "source": [
        "## Importing the libraries"
      ]
    },
    {
      "cell_type": "code",
      "execution_count": 5,
      "metadata": {
        "id": "lozuE-Fhx_QB"
      },
      "outputs": [],
      "source": [
        "# numpy is not used here, and is commented out as such\n",
        "# import numpy as np\n",
        "import matplotlib.pyplot as plt\n",
        "import pandas as pd"
      ]
    },
    {
      "cell_type": "markdown",
      "metadata": {
        "id": "iqpVk5HhyGmO"
      },
      "source": [
        "## Importing the dataset"
      ]
    },
    {
      "cell_type": "code",
      "execution_count": 6,
      "metadata": {
        "id": "kY4zzW4hyNfA"
      },
      "outputs": [],
      "source": [
        "dataset = pd.read_csv('Ads_CTR_Optimisation.csv')"
      ]
    },
    {
      "cell_type": "markdown",
      "metadata": {
        "id": "WqoXeWOYyQhB"
      },
      "source": [
        "## Implementing Thompson Sampling"
      ]
    },
    {
      "cell_type": "code",
      "execution_count": 7,
      "metadata": {
        "id": "PCiHv51pyUII"
      },
      "outputs": [],
      "source": [
        "import random\n",
        "N = 10000\n",
        "d = 10\n",
        "ads_selected = []\n",
        "# Up to here, and from visualizing the histogram, the process is the same as in UCB (Upper Confidence Bound)\n",
        "numbers_of_rewards_1 = [0] * d\n",
        "numbers_of_rewards_0 = [0] * d\n",
        "total_reward = 0\n",
        "\n",
        "for n in range(0, N):\n",
        "  ad = 0\n",
        "  max_random = 0\n",
        "  for i in range(0, d):\n",
        "    random_beta = random.betavariate(numbers_of_rewards_1[i] + 1, numbers_of_rewards_0[i] + 1)\n",
        "    if (random_beta > max_random):\n",
        "      max_random = random_beta\n",
        "      ad = i\n",
        "  ads_selected.append(ad)\n",
        "  reward = dataset.values[n, ad]\n",
        "  if reward == 1:\n",
        "    numbers_of_rewards_1[ad] += 1\n",
        "  else:\n",
        "    numbers_of_rewards_0[ad] += 1\n",
        "  total_reward += reward"
      ]
    },
    {
      "cell_type": "markdown",
      "metadata": {
        "id": "tweWsgTHyXhv"
      },
      "source": [
        "## Visualising the results - Histogram"
      ]
    },
    {
      "cell_type": "code",
      "execution_count": 8,
      "metadata": {
        "colab": {
          "base_uri": "https://localhost:8080/",
          "height": 295
        },
        "id": "k8DJmN06yak3",
        "outputId": "b79e5595-b225-45f9-b4c7-18dd6e183158"
      },
      "outputs": [
        {
          "data": {
            "image/png": "[encoded data removed]",
            "text/plain": [
              "<Figure size 432x288 with 1 Axes>"
            ]
          },
          "metadata": {
            "needs_background": "light"
          },
          "output_type": "display_data"
        }
      ],
      "source": [
        "plt.hist(ads_selected)\n",
        "plt.title('Histogram of ads selections')\n",
        "plt.xlabel('Ads')\n",
        "plt.ylabel('Number of times each ad was selected')\n",
        "plt.show()"
      ]
    }
  ],
  "metadata": {
    "colab": {
      "collapsed_sections": [],
      "name": "thompson_sampling.ipynb",
      "provenance": []
    },
    "kernelspec": {
      "display_name": "Python 3",
      "name": "python3"
    },
    "language_info": {
      "codemirror_mode": {
        "name": "ipython",
        "version": 3
      },
      "file_extension": ".py",
      "mimetype": "text/x-python",
      "name": "python",
      "nbconvert_exporter": "python",
      "pygments_lexer": "ipython3",
      "version": "3.8.8"
    }
  },
  "nbformat": 4,
  "nbformat_minor": 0
}
